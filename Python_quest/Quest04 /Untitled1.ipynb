{
  "nbformat": 4,
  "nbformat_minor": 0,
  "metadata": {
    "colab": {
      "provenance": [],
      "authorship_tag": "ABX9TyMc39hF9BRC4XteZuk0JGjW",
      "include_colab_link": true
    },
    "kernelspec": {
      "name": "python3",
      "display_name": "Python 3"
    },
    "language_info": {
      "name": "python"
    }
  },
  "cells": [
    {
      "cell_type": "markdown",
      "metadata": {
        "id": "view-in-github",
        "colab_type": "text"
      },
      "source": [
        "<a href=\"https://colab.research.google.com/github/CHOPHILSUN/ChoPhilSun-All-Quest/blob/main/Python_quest/Quest04%20/Untitled1.ipynb\" target=\"_parent\"><img src=\"https://colab.research.google.com/assets/colab-badge.svg\" alt=\"Open In Colab\"/></a>"
      ]
    },
    {
      "cell_type": "code",
      "source": [
        "# 물고기 리스트 생성\n",
        "fish_list = []\n",
        "\n",
        "# 물고기 정보 입력\n",
        "fish_name = input(\"물고기의 이름을 입력하세요: \")\n",
        "fish_speed = int(input(f\"{fish_name}의 속도를 입력하세요 (m/s, 정수로 입력): \"))\n",
        "fish_list.append({\"이름\": fish_name, \"속도\": fish_speed})\n",
        "\n",
        "fish_name = input(\"또 다른 물고기의 이름을 입력하세요: \")\n",
        "fish_speed = int(input(f\"{fish_name}의 속도를 입력하세요 (m/s, 정수로 입력): \"))\n",
        "fish_list.append({\"이름\": fish_name, \"속도\": fish_speed})\n",
        "\n",
        "# 물고기 움직임 출력 함수 (컴프리헨션)\n",
        "def show_fish_movement_comprehension(fish_list):\n",
        "    print(\"Using Comprehension:\")\n",
        "    for fish in fish_list:\n",
        "        name = fish[\"이름\"]\n",
        "        speed = fish[\"속도\"]\n",
        "        print(f\"{name} is swimming at {speed} m/s\")\n",
        "\n",
        "# 물고기 움직임 출력 함수 (제너레이터)\n",
        "def show_fish_movement_generator(fish_list):\n",
        "    print(\"Using Generator:\")\n",
        "    for fish in fish_list:\n",
        "        yield f\"{fish['이름']} is swimming at {fish['속도']} m/s\"\n",
        "\n",
        "# 물고기 움직임 출력하기\n",
        "show_fish_movement_comprehension(fish_list)\n",
        "\n",
        "print(\"\\n\")  # 공백 줄 추가\n",
        "\n",
        "for movement in show_fish_movement_generator(fish_list):\n",
        "    print(movement)"
      ],
      "metadata": {
        "colab": {
          "base_uri": "https://localhost:8080/"
        },
        "id": "aznR1-yRd4R7",
        "outputId": "a22f3c5d-9dc0-49c9-c42d-9fd2fafd4d6f"
      },
      "execution_count": 5,
      "outputs": [
        {
          "output_type": "stream",
          "name": "stdout",
          "text": [
            "물고기의 이름을 입력하세요: 니모\n",
            "니모의 속도를 입력하세요 (m/s, 정수로 입력): 3\n",
            "또 다른 물고기의 이름을 입력하세요: 도리\n",
            "도리의 속도를 입력하세요 (m/s, 정수로 입력): 5\n",
            "Using Comprehension:\n",
            "니모 is swimming at 3 m/s\n",
            "도리 is swimming at 5 m/s\n",
            "\n",
            "\n",
            "Using Generator:\n",
            "니모 is swimming at 3 m/s\n",
            "도리 is swimming at 5 m/s\n"
          ]
        }
      ]
    },
    {
      "cell_type": "markdown",
      "source": [
        "<조필선 회고문>\n",
        "\n",
        "\n",
        " 1. 배운 점\n",
        "    - input() 함수를 사용하여 사용자로부터 입력을 받는 방법을 배웠습니다.\n",
        "    - 리스트에 데이터를 추가하는 방법을 알게 되었습니다.\n",
        "    - 입력을 정수로 변환하기 위해 int() 함수를 사용하는 방법을 배웠습니다.\n",
        "    - for 반복문을 사용하여 리스트의 요소를 반복하고 출력하는 방법을 이해했습니다.\n",
        "    - 함수를 정의하고 호출하는 방법을 실습하였습니다.\n",
        "\n",
        "\n",
        "\n",
        " 2. 아쉬운 점\n",
        "    - 코드에 대한 주석이 부족하고, 각 부분이 어떤 역할을 하는지 제 3자가 볼때 명확하게 정의하지 못한 것 같아서 이 부분이 아쉽습니다.\n",
        "    \n",
        "#    \n",
        "\n",
        " 3. 느낀 점\n",
        "    - Quest가 쉽지 않는 것 같았고 난이도도 개인적인 입장에서 좀 높았지만, 혼자가 아닌 팀 단위위로 협력하는 것이 의견을 내고 서로의 생각을 상호교환하는 것이 더 중요함을 깨달아서 좋았습니다. 그리고 주로 사용하는 리스트, 배열, 문자입력 등 자주 연습해 봄으로써 익숙해지는 것이 중요하다는 것을 느꼈습니다.\n",
        "\n",
        "\n"
      ],
      "metadata": {
        "id": "M9WvbNa6lNj2"
      }
    }
  ]
}