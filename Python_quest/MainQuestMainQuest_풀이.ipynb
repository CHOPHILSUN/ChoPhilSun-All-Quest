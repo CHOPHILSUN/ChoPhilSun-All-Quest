{
  "nbformat": 4,
  "nbformat_minor": 0,
  "metadata": {
    "colab": {
      "provenance": [],
      "authorship_tag": "ABX9TyPy80AWSQB4+De4az3xBa/t",
      "include_colab_link": true
    },
    "kernelspec": {
      "name": "python3",
      "display_name": "Python 3"
    },
    "language_info": {
      "name": "python"
    }
  },
  "cells": [
    {
      "cell_type": "markdown",
      "metadata": {
        "id": "view-in-github",
        "colab_type": "text"
      },
      "source": [
        "<a href=\"https://colab.research.google.com/github/CHOPHILSUN/ChoPhilSun-All-Quest/blob/main/Python_quest/MainQuestMainQuest_%ED%92%80%EC%9D%B4.ipynb\" target=\"_parent\"><img src=\"https://colab.research.google.com/assets/colab-badge.svg\" alt=\"Open In Colab\"/></a>"
      ]
    },
    {
      "cell_type": "code",
      "execution_count": 10,
      "metadata": {
        "colab": {
          "base_uri": "https://localhost:8080/"
        },
        "id": "52r-ml7Ah3y7",
        "outputId": "76251910-9532-41c8-86de-4a4a14d638b0"
      },
      "outputs": [
        {
          "output_type": "stream",
          "name": "stdout",
          "text": [
            "아이펠온라인6기\n",
            "100\n",
            "sc은행\n",
            "807-00-386700\n"
          ]
        }
      ],
      "source": [
        "# Q1\n",
        "# 은행에 가서 계좌를 개설하면 은행이름, 예금주, 계좌번호, 잔액이 설정됩니다.\n",
        "# Account 클래스를 생성한 후 생성자를 구현해보세요. 생성자에서는 예금주와 초기 잔액만 입력 받습니다.\n",
        "# 은행이름은 SC은행으로 계좌번호는 3자리-2자리-6자리 형태로 랜덤하게 생성됩니다.\n",
        "\n",
        "import random                         # 난수 모듈 함수\n",
        "\n",
        "class Account:                        # 클래스 Account 정의\n",
        "    def __init__(self, name, balance):  # 클래스 내부함수 메소드 정의 / 3개의 인자인 self, name, balance\n",
        "      self.name = name                  # self의 정의는?\n",
        "      self.balance = balance\n",
        "      self.bank = \"sc은행\"\n",
        "\n",
        "      num1 = random.randint(0, 999)     #0~999 숫자 사이의 임의수를 num1에 대입\n",
        "      num2 = random.randint(0, 99)      #0~99  숫자 사이의 임의수를 num2에 대입\n",
        "      num3 = random.randint(0, 999999)  #0~99  숫자 사이의 임의수를 num3에 대입\n",
        "\n",
        "      num1 = str(num1).zfill(3)         # 1 -> '1' -> '001'                     / 파이썬 문자열 앞 0으로 채우기\n",
        "      num2 = str(num2).zfill(2)         # 1 -> '1' -> '01'                      / 파이썬 문자열 앞 0으로 채우기\n",
        "      num3 = str(num3).zfill(6)         # 1 -> '1' -> '000001'                  / 파이썬 문자열 앞 0으로 채우기\n",
        "      self.account_number = num1 + '-' + num2 + '-' + num3  # 001-01-000001\n",
        "\n",
        "aiffel = Account(\"아이펠온라인6기\", 100)\n",
        "print(aiffel.name)\n",
        "print(aiffel.balance)\n",
        "print(aiffel.bank)\n",
        "print(aiffel.account_number)\n",
        "\n",
        "\n",
        ""
      ]
    },
    {
      "cell_type": "code",
      "source": [
        "# Q2\n",
        "# 클래스 변수: 클래스 변수를 사용해서 Account 클래스로부터 생성된 계좌 객체의 개수를 저장하세요\n",
        "\n",
        "import random\n",
        "\n",
        "class Account:\n",
        "    account_count = 0     # 클래스 변수 선언\n",
        "\n",
        "    def __init__(self, name, balance):  # 클래스 내부함수 메소드 정의 / 3개의 인자인 self, name, balance\n",
        "        self.name = name                  # self의 정의는?\n",
        "        self.balance = balance\n",
        "        self.bank = \"sc은행\"\n",
        "\n",
        "        num1 = random.randint(0, 999)     #0~999 숫자 사이의 임의수를 num1에 대입\n",
        "        num2 = random.randint(0, 99)      #0~99  숫자 사이의 임의수를 num2에 대입\n",
        "        num3 = random.randint(0, 999999)  #0~99  숫자 사이의 임의수를 num3에 대입\n",
        "\n",
        "        num1 = str(num1).zfill(3)         # 1 -> '1' -> '001'                     / 파이썬 문자열 앞 0으로 채우기\n",
        "        num2 = str(num2).zfill(2)         # 1 -> '1' -> '01'                      / 파이썬 문자열 앞 0으로 채우기\n",
        "        num3 = str(num3).zfill(6)         # 1 -> '1' -> '000001'                  / 파이썬 문자열 앞 0으로 채우기\n",
        "        self.account_number = num1 + '-' + num2 + '-' + num3  # 001-01-000001\n",
        "\n",
        "        Account.account_count += 1\n",
        "\n",
        "\n",
        "aiffel = Account(\"김민수\", 100)    #인자를 주어서 함수 Accont를 호출                        / class 함수 AREA안에 명령이 위치하게 되면 함수 내부 코드로 인식하므로 실행이 안됨, 맨 앞쪽에 문장이 위치해야 함\n",
        "print(Account.account_count)       #Account 클래스 내부의 account_count 변수의 값을 출력\n",
        "aiffel2 = Account(\"이민수\", 100)\n",
        "print(Account.account_count)"
      ],
      "metadata": {
        "colab": {
          "base_uri": "https://localhost:8080/"
        },
        "id": "UXDSRXXSrR4k",
        "outputId": "3950e402-7785-4a4e-ba3a-b5eee9695d76"
      },
      "execution_count": 39,
      "outputs": [
        {
          "output_type": "stream",
          "name": "stdout",
          "text": [
            "1\n",
            "2\n"
          ]
        }
      ]
    },
    {
      "cell_type": "code",
      "source": [
        "# Q3\n",
        "# 클래스 변수 출력: Account 클래스로부터 생성된 계좌의 개수를 출력하는 get_account_num() 메서드를 추가하세요\n",
        "\n",
        "import random\n",
        "\n",
        "class Account:\n",
        "    account_count = 0     # 클래스 변수 선언\n",
        "\n",
        "    def __init__(self, name, balance):  # 클래스 내부함수 메소드 정의 / 3개의 인자인 self, name, balance  / 인스턴스 메서드\n",
        "        self.name = name                  # 인스턴스 변수는 \"self.변수명\" 의 형식을 갖는다.\n",
        "        self.balance = balance            # 인스턴스 변수임\n",
        "        self.bank = \"sc은행\"              # 인스턴스 변수임\n",
        "\n",
        "        num1 = random.randint(0, 999)     #0~999 숫자 사이의 임의수를 num1에 대입\n",
        "        num2 = random.randint(0, 99)      #0~99  숫자 사이의 임의수를 num2에 대입\n",
        "        num3 = random.randint(0, 999999)  #0~99  숫자 사이의 임의수를 num3에 대입\n",
        "\n",
        "        num1 = str(num1).zfill(3)         # 1 -> '1' -> '001'                     / 파이썬 문자열 앞 0으로 채우기\n",
        "        num2 = str(num2).zfill(2)         # 1 -> '1' -> '01'                      / 파이썬 문자열 앞 0으로 채우기\n",
        "        num3 = str(num3).zfill(6)         # 1 -> '1' -> '000001'                  / 파이썬 문자열 앞 0으로 채우기\n",
        "        self.account_number = num1 + '-' + num2 + '-' + num3  # 001-01-000001\n",
        "\n",
        "        Account.account_count += 1\n",
        "\n",
        "    @classmethod                          # 클래스 메서드\n",
        "    def get_account_num(cls):\n",
        "        print(cls.account_count)          # ?\n",
        "\n",
        "aiffel = Account(\"김민수\", 100)\n",
        "aiffel2 = Account(\"이민수\", 100)\n",
        "aiffel.get_account_num()\n",
        "\n",
        "\n",
        "\n"
      ],
      "metadata": {
        "colab": {
          "base_uri": "https://localhost:8080/"
        },
        "id": "q5yb9MCmytTD",
        "outputId": "73ff7bec-843a-4295-fac0-3d579f53ce3a"
      },
      "execution_count": 42,
      "outputs": [
        {
          "output_type": "stream",
          "name": "stdout",
          "text": [
            "2\n"
          ]
        }
      ]
    },
    {
      "cell_type": "code",
      "source": [
        "# Q4\n",
        "# 입금 메서드: Account 클래스에 입금을 위한 deposit 메서드를 추가하세요. 입금은 최소 1원 이상만 가능합니다.\n",
        "\n",
        "import random\n",
        "\n",
        "class Account:\n",
        "    account_count = 0     # 클래스 변수 선언\n",
        "\n",
        "    def __init__(self, name, balance):  # 클래스 내부함수 메소드 정의 / 3개의 인자인 self, name, balance  / 인스턴스 메서드\n",
        "        self.name = name                  # 인스턴스 변수는 \"self.변수명\" 의 형식을 갖는다.\n",
        "        self.balance = balance            # 인스턴스 변수임\n",
        "        self.bank = \"sc은행\"              # 인스턴스 변수임\n",
        "\n",
        "        num1 = random.randint(0, 999)     #0~999 숫자 사이의 임의수를 num1에 대입\n",
        "        num2 = random.randint(0, 99)      #0~99  숫자 사이의 임의수를 num2에 대입\n",
        "        num3 = random.randint(0, 999999)  #0~99  숫자 사이의 임의수를 num3에 대입\n",
        "\n",
        "        num1 = str(num1).zfill(3)         # 1 -> '1' -> '001'                     / 파이썬 문자열 앞 0으로 채우기\n",
        "        num2 = str(num2).zfill(2)         # 1 -> '1' -> '01'                      / 파이썬 문자열 앞 0으로 채우기\n",
        "        num3 = str(num3).zfill(6)         # 1 -> '1' -> '000001'                  / 파이썬 문자열 앞 0으로 채우기\n",
        "        self.account_number = num1 + '-' + num2 + '-' + num3  # 001-01-000001\n",
        "\n",
        "        Account.account_count += 1\n",
        "\n",
        "    @classmethod                          # 클래스 메서드\n",
        "    def get_account_num(cls):             # 무슨 의미?\n",
        "        print(cls.account_count)          # account_count의 cls의 인자 값을 출력?\n",
        "\n",
        "    def deposit(self, amount):            # deposit 메서드 정의\n",
        "        if amount >= 1:                   # amount값이 1원 이상이면\n",
        "            self.balance += amount        # 그 값을 저장하라\n",
        "\n"
      ],
      "metadata": {
        "id": "LxPkoDEFVlLv"
      },
      "execution_count": 55,
      "outputs": []
    },
    {
      "cell_type": "code",
      "source": [
        "# Q5\n",
        "# 출금 메서드: Account 클래스에 출금을 위한 withdraw 메서드를 추가하세요.\n",
        "# 출금은 계좌 잔고 이상으로 출금할 수 없습니다.\n",
        "\n",
        "import random\n",
        "\n",
        "class Account:\n",
        "    account_count = 0     # 클래스 변수 선언\n",
        "\n",
        "    def __init__(self, name, balance):  # 클래스 내부함수 메소드 정의 / 3개의 인자인 self, name, balance  / 인스턴스 메서드\n",
        "        self.name = name                  # 인스턴스 변수는 \"self.변수명\" 의 형식을 갖는다.\n",
        "        self.balance = balance            # 인스턴스 변수임\n",
        "        self.bank = \"sc은행\"              # 인스턴스 변수임\n",
        "\n",
        "        num1 = random.randint(0, 999)     #0~999 숫자 사이의 임의수를 num1에 대입\n",
        "        num2 = random.randint(0, 99)      #0~99  숫자 사이의 임의수를 num2에 대입\n",
        "        num3 = random.randint(0, 999999)  #0~99  숫자 사이의 임의수를 num3에 대입\n",
        "\n",
        "        num1 = str(num1).zfill(3)         # 1 -> '1' -> '001'                     / 파이썬 문자열 앞 0으로 채우기\n",
        "        num2 = str(num2).zfill(2)         # 1 -> '1' -> '01'                      / 파이썬 문자열 앞 0으로 채우기\n",
        "        num3 = str(num3).zfill(6)         # 1 -> '1' -> '000001'                  / 파이썬 문자열 앞 0으로 채우기\n",
        "        self.account_number = num1 + '-' + num2 + '-' + num3  # 001-01-000001\n",
        "\n",
        "        Account.account_count += 1\n",
        "\n",
        "    @classmethod                          # 클래스 메서드\n",
        "    def get_account_num(cls):             # 무슨 의미?\n",
        "        print(cls.account_count)          # account_count의 cls의 인자 값을 출력?\n",
        "\n",
        "    def deposit(self, amount):            # deposit 메서드 정의\n",
        "        if amount >= 1:                   # amount값이 1원 이상이면\n",
        "            self.balance += amount        # 그 값을 저장하라\n",
        "\n",
        "    def withdraw(self, amount):           # withdraw 메서드 정의\n",
        "        if self.balance > amount:         # 잔고가 amount값보다 초과한다면\n",
        "            self.balance -= amount        # 잔고에서 amount값을 뺀후에 그 값을 다시 잔고 변수에 넣어라\n",
        "\n",
        "k = Account(\"kim\", 100)                   # Account 클래스 호출\n",
        "k.deposit(100)                            # deposit 함수에 100 인자값 전달\n",
        "k.withdraw(90)                            # withdraw 함수에 90 인자값 전달\n",
        "print(k.balance)                          # 최종 잔고 출력"
      ],
      "metadata": {
        "colab": {
          "base_uri": "https://localhost:8080/"
        },
        "id": "vZTPJZukYLoN",
        "outputId": "3912c59d-9254-4c51-ff5f-2bba2fb6f8dc"
      },
      "execution_count": 56,
      "outputs": [
        {
          "output_type": "stream",
          "name": "stdout",
          "text": [
            "110\n"
          ]
        }
      ]
    },
    {
      "cell_type": "code",
      "source": [
        "# Q6\n",
        "# 정보 출력 메서드: Account 인스턴스에 저장된 정보를 출력하는 display_info() 메서드를 추가하세요.\n",
        "# 잔고는 세자리마다 쉼표를 출력하세요.\n",
        "# (은행 이름: SC은행, 예금주: 파이썬, 계좌번호: 111-11-111111, 잔고: 10,000원)\n",
        "\n",
        "# Q5\n",
        "# 출금 메서드: Account 클래스에 출금을 위한 withdraw 메서드를 추가하세요.\n",
        "# 출금은 계좌 잔고 이상으로 출금할 수 없습니다.\n",
        "\n",
        "import random\n",
        "\n",
        "class Account:\n",
        "    account_count = 0     # 클래스 변수 선언\n",
        "\n",
        "    def __init__(self, name, balance):  # 클래스 내부함수 메소드 정의 / 3개의 인자인 self, name, balance  / 인스턴스 메서드\n",
        "        self.name = name                  # 인스턴스 변수는 \"self.변수명\" 의 형식을 갖는다.\n",
        "        self.balance = balance            # 인스턴스 변수임\n",
        "        self.bank = \"sc은행\"              # 인스턴스 변수임\n",
        "\n",
        "        num1 = random.randint(0, 999)     #0~999 숫자 사이의 임의수를 num1에 대입\n",
        "        num2 = random.randint(0, 99)      #0~99  숫자 사이의 임의수를 num2에 대입\n",
        "        num3 = random.randint(0, 999999)  #0~99  숫자 사이의 임의수를 num3에 대입\n",
        "\n",
        "        num1 = str(num1).zfill(3)         # 1 -> '1' -> '001'                     / 파이썬 문자열 앞 0으로 채우기\n",
        "        num2 = str(num2).zfill(2)         # 1 -> '1' -> '01'                      / 파이썬 문자열 앞 0으로 채우기\n",
        "        num3 = str(num3).zfill(6)         # 1 -> '1' -> '000001'                  / 파이썬 문자열 앞 0으로 채우기\n",
        "        self.account_number = num1 + '-' + num2 + '-' + num3  # 001-01-000001\n",
        "\n",
        "        Account.account_count += 1\n",
        "\n",
        "    @classmethod                          # 클래스 메서드\n",
        "    def get_account_num(cls):             # 무슨 의미?\n",
        "        print(cls.account_count)          # account_count의 cls의 인자 값을 출력?\n",
        "\n",
        "    def deposit(self, amount):            # deposit 메서드 정의\n",
        "        if amount >= 1:                   # amount값이 1원 이상이면\n",
        "            self.balance += amount        # 그 값을 저장하라\n",
        "\n",
        "    def withdraw(self, amount):           # withdraw 메서드 정의\n",
        "        if self.balance > amount:         # 잔고가 amount값보다 초과한다면\n",
        "            self.balance -= amount        # 잔고에서 amount값을 뺀후에 그 값을 다시 잔고 변수에 넣어라\n",
        "\n",
        "    def display_info(self):               # display_info 메서드 정의\n",
        "        print(\"은행이름: \", self.bank)\n",
        "        print(\"예금주: \", self.name)\n",
        "        print(\"계좌번호: \", self.account_number)\n",
        "        print(\"잔고: \", f\"{self.balance:,}\")\n",
        "\n",
        "p = Account(\"파이썬\", 10000)\n",
        "p.display_info()"
      ],
      "metadata": {
        "colab": {
          "base_uri": "https://localhost:8080/"
        },
        "id": "fYVEldgLgn42",
        "outputId": "87fabd9a-7091-4a5a-db66-485217b9ea07"
      },
      "execution_count": 59,
      "outputs": [
        {
          "output_type": "stream",
          "name": "stdout",
          "text": [
            "은행이름:  sc은행\n",
            "예금주:  파이썬\n",
            "계좌번호:  917-55-963217\n",
            "잔고:  10,000\n"
          ]
        }
      ]
    },
    {
      "cell_type": "code",
      "source": [
        "# Q7\n",
        "# 이자 지급하기 입금 횟수가 5회가 될 때 잔고를 기준으로 1%의 이자가 잔고에 추가되도록 코드를 변경해보세요\n",
        "\n",
        "import random\n",
        "\n",
        "class Account:\n",
        "    account_count = 0     # 클래스 변수 선언\n",
        "\n",
        "    def __init__(self, name, balance):    # 클래스 내부함수 메소드 정의 / 3개의 인자인 self, name, balance  / 인스턴스 메서드\n",
        "\n",
        "        self.deposit_count = 0            # 인스턴스 변수임\n",
        "\n",
        "        self.name = name                  # 인스턴스 변수는 \"self.변수명\" 의 형식을 갖는다.\n",
        "        self.balance = balance            # 인스턴스 변수임\n",
        "        self.bank = \"sc은행\"              # 인스턴스 변수임\n",
        "\n",
        "        num1 = random.randint(0, 999)     #0~999 숫자 사이의 임의수를 num1에 대입\n",
        "        num2 = random.randint(0, 99)      #0~99  숫자 사이의 임의수를 num2에 대입\n",
        "        num3 = random.randint(0, 999999)  #0~99  숫자 사이의 임의수를 num3에 대입\n",
        "\n",
        "        num1 = str(num1).zfill(3)         # 1 -> '1' -> '001'                     / 파이썬 문자열 앞 0으로 채우기\n",
        "        num2 = str(num2).zfill(2)         # 1 -> '1' -> '01'                      / 파이썬 문자열 앞 0으로 채우기\n",
        "        num3 = str(num3).zfill(6)         # 1 -> '1' -> '000001'                  / 파이썬 문자열 앞 0으로 채우기\n",
        "        self.account_number = num1 + '-' + num2 + '-' + num3  # 001-01-000001\n",
        "\n",
        "        Account.account_count += 1\n",
        "\n",
        "    @classmethod                          # 클래스 메서드\n",
        "    def get_account_num(cls):             # 무슨 의미?\n",
        "        print(cls.account_count)          # account_count의 cls의 인자 값을 출력?\n",
        "\n",
        "    def deposit(self, amount):            # deposit 메서드 정의 / 이자 지금에 관한 부분 코드 추가\n",
        "        if amount >= 1:                   # amount값이 1원 이상이면\n",
        "            self.balance += amount        # 그 값을 저장하라\n",
        "\n",
        "            self.deposit_count += 1\n",
        "            if self.deposit_count % 5 == 0:              # 5로 나누어서 나머지가 0 이면\n",
        "                self.balance = (self.balance * 1.01)     # 1.01 곱한 값을 다시 잔고에 넣어라 / 이자 지급\n",
        "\n",
        "\n",
        "\n",
        "    def withdraw(self, amount):           # withdraw 메서드 정의\n",
        "        if self.balance > amount:         # 잔고가 amount값보다 초과한다면\n",
        "            self.balance -= amount        # 잔고에서 amount값을 뺀후에 그 값을 다시 잔고 변수에 넣어라\n",
        "\n",
        "    def display_info(self):               # display_info 메서드 정의\n",
        "        print(\"은행이름: \", self.bank)\n",
        "        print(\"예금주: \", self.name)\n",
        "        print(\"계좌번호: \", self.account_number)\n",
        "        print(\"잔고: \", self.balance)\n",
        "\n",
        "p = Account(\"파이썬\", 10000)\n",
        "p.deposit(10000)\n",
        "p.deposit(10000)\n",
        "p.deposit(10000)\n",
        "p.deposit(5000)\n",
        "p.deposit(5000)\n",
        "print(p.balance)"
      ],
      "metadata": {
        "colab": {
          "base_uri": "https://localhost:8080/"
        },
        "id": "ikrSgJUTh_p9",
        "outputId": "8c77d471-6fa0-484f-d7a4-d706bfb84bed"
      },
      "execution_count": 72,
      "outputs": [
        {
          "output_type": "stream",
          "name": "stdout",
          "text": [
            "50500.0\n"
          ]
        }
      ]
    },
    {
      "cell_type": "code",
      "source": [
        "# Q8\n",
        "# 여러 객체 생성 Account 클래스로부터 3개 이상 인스턴스를 생성하고 생성된 인스턴스를 리스트에 저장해 보세요.\n",
        "\n",
        "import random\n",
        "\n",
        "class Account:\n",
        "    account_count = 0     # 클래스 변수 선언\n",
        "\n",
        "    def __init__(self, name, balance):    # 클래스 내부함수 메소드 정의 / 3개의 인자인 self, name, balance  / 인스턴스 메서드\n",
        "\n",
        "        self.deposit_count = 0            # 인스턴스 변수임\n",
        "\n",
        "        self.name = name                  # 인스턴스 변수는 \"self.변수명\" 의 형식을 갖는다.\n",
        "        self.balance = balance            # 인스턴스 변수임\n",
        "        self.bank = \"sc은행\"              # 인스턴스 변수임\n",
        "\n",
        "        num1 = random.randint(0, 999)     #0~999 숫자 사이의 임의수를 num1에 대입\n",
        "        num2 = random.randint(0, 99)      #0~99  숫자 사이의 임의수를 num2에 대입\n",
        "        num3 = random.randint(0, 999999)  #0~99  숫자 사이의 임의수를 num3에 대입\n",
        "\n",
        "        num1 = str(num1).zfill(3)         # 1 -> '1' -> '001'                     / 파이썬 문자열 앞 0으로 채우기\n",
        "        num2 = str(num2).zfill(2)         # 1 -> '1' -> '01'                      / 파이썬 문자열 앞 0으로 채우기\n",
        "        num3 = str(num3).zfill(6)         # 1 -> '1' -> '000001'                  / 파이썬 문자열 앞 0으로 채우기\n",
        "        self.account_number = num1 + '-' + num2 + '-' + num3  # 001-01-000001\n",
        "\n",
        "        Account.account_count += 1\n",
        "\n",
        "    @classmethod                          # 클래스 메서드\n",
        "    def get_account_num(cls):             # 무슨 의미?\n",
        "        print(cls.account_count)          # account_count의 cls의 인자 값을 출력?\n",
        "\n",
        "    def deposit(self, amount):            # deposit 메서드 정의 / 이자 지금에 관한 부분 코드 추가\n",
        "        if amount >= 1:                   # amount값이 1원 이상이면\n",
        "            self.balance += amount        # 그 값을 저장하라\n",
        "\n",
        "            self.deposit_count += 1\n",
        "            if self.deposit_count % 5 == 0:              # 5로 나누어서 나머지가 0 이면\n",
        "                self.balance = (self.balance * 1.01)     # 1.01 곱한 값을 다시 잔고에 넣어라 / 이자 지급\n",
        "\n",
        "\n",
        "\n",
        "    def withdraw(self, amount):           # withdraw 메서드 정의\n",
        "        if self.balance > amount:         # 잔고가 amount값보다 초과한다면\n",
        "            self.balance -= amount        # 잔고에서 amount값을 뺀후에 그 값을 다시 잔고 변수에 넣어라\n",
        "\n",
        "    def display_info(self):               # display_info 메서드 정의\n",
        "        print(\"은행이름: \", self.bank)\n",
        "        print(\"예금주: \", self.name)\n",
        "        print(\"계좌번호: \", self.account_number)\n",
        "        print(\"잔고: \", self.balance)\n",
        "\n",
        "\n",
        "data = []\n",
        "k = Account(\"KIM\", 10000000)\n",
        "l = Account(\"LEE\", 10000)\n",
        "p = Account(\"PARK\", 10000)\n",
        "\n",
        "data.append(k)\n",
        "data.append(l)\n",
        "data.append(p)\n",
        "\n",
        "print(data)\n",
        "\n"
      ],
      "metadata": {
        "colab": {
          "base_uri": "https://localhost:8080/"
        },
        "id": "xzK7C_4AlpKg",
        "outputId": "6250ac37-e68a-4ad1-81e1-85308f58f34b"
      },
      "execution_count": 74,
      "outputs": [
        {
          "output_type": "stream",
          "name": "stdout",
          "text": [
            "[<__main__.Account object at 0x7f85af9c95a0>, <__main__.Account object at 0x7f85af9cb700>, <__main__.Account object at 0x7f85af9cb160>]\n"
          ]
        }
      ]
    },
    {
      "cell_type": "code",
      "source": [
        "# Q9\n",
        "# 객체 순회 반복문을 통해 리스트에 있는 객체를 순회하면서 잔고가 100만원 이상인 고객의 정보만 출력하세요.\n",
        "\n",
        "import random\n",
        "\n",
        "class Account:\n",
        "    account_count = 0     # 클래스 변수 선언\n",
        "\n",
        "    def __init__(self, name, balance):    # 클래스 내부함수 메소드 정의 / 3개의 인자인 self, name, balance  / 인스턴스 메서드\n",
        "\n",
        "        self.deposit_count = 0            # 인스턴스 변수임\n",
        "\n",
        "        self.name = name                  # 인스턴스 변수는 \"self.변수명\" 의 형식을 갖는다.\n",
        "        self.balance = balance            # 인스턴스 변수임\n",
        "        self.bank = \"sc은행\"              # 인스턴스 변수임\n",
        "\n",
        "        num1 = random.randint(0, 999)     #0~999 숫자 사이의 임의수를 num1에 대입\n",
        "        num2 = random.randint(0, 99)      #0~99  숫자 사이의 임의수를 num2에 대입\n",
        "        num3 = random.randint(0, 999999)  #0~99  숫자 사이의 임의수를 num3에 대입\n",
        "\n",
        "        num1 = str(num1).zfill(3)         # 1 -> '1' -> '001'                     / 파이썬 문자열 앞 0으로 채우기\n",
        "        num2 = str(num2).zfill(2)         # 1 -> '1' -> '01'                      / 파이썬 문자열 앞 0으로 채우기\n",
        "        num3 = str(num3).zfill(6)         # 1 -> '1' -> '000001'                  / 파이썬 문자열 앞 0으로 채우기\n",
        "        self.account_number = num1 + '-' + num2 + '-' + num3  # 001-01-000001\n",
        "\n",
        "        Account.account_count += 1\n",
        "\n",
        "    @classmethod                          # 클래스 메서드\n",
        "    def get_account_num(cls):             # 무슨 의미?\n",
        "        print(cls.account_count)          # account_count의 cls의 인자 값을 출력?\n",
        "\n",
        "    def deposit(self, amount):            # deposit 메서드 정의 / 이자 지금에 관한 부분 코드 추가\n",
        "        if amount >= 1:                   # amount값이 1원 이상이면\n",
        "            self.balance += amount        # 그 값을 저장하라\n",
        "\n",
        "            self.deposit_count += 1\n",
        "            if self.deposit_count % 5 == 0:              # 5로 나누어서 나머지가 0 이면\n",
        "                self.balance = (self.balance * 1.01)     # 1.01 곱한 값을 다시 잔고에 넣어라 / 이자 지급\n",
        "\n",
        "\n",
        "\n",
        "    def withdraw(self, amount):           # withdraw 메서드 정의\n",
        "        if self.balance > amount:         # 잔고가 amount값보다 초과한다면\n",
        "            self.balance -= amount        # 잔고에서 amount값을 뺀후에 그 값을 다시 잔고 변수에 넣어라\n",
        "\n",
        "    def display_info(self):               # display_info 메서드 정의\n",
        "        print(\"은행이름: \", self.bank)\n",
        "        print(\"예금주: \", self.name)\n",
        "        print(\"계좌번호: \", self.account_number)\n",
        "        print(\"잔고: \", self.balance)\n",
        "\n",
        "\n",
        "data = []\n",
        "k = Account(\"KIM\", 10000000)\n",
        "l = Account(\"LEE\", 10000)\n",
        "p = Account(\"PARK\", 10000)\n",
        "data.append(k)\n",
        "data.append(l)\n",
        "data.append(p)\n",
        "\n",
        "for c in data:                            # 반복문 선언\n",
        "    if c.balance >= 1000000:              # 잔고가 100만원 이상이면\n",
        "        c.display_info()                  # 정보를 출력하라"
      ],
      "metadata": {
        "colab": {
          "base_uri": "https://localhost:8080/"
        },
        "id": "mwCNPXBCoI0H",
        "outputId": "f7f22bd6-ef48-400e-c84a-98ae7791bd07"
      },
      "execution_count": 76,
      "outputs": [
        {
          "output_type": "stream",
          "name": "stdout",
          "text": [
            "은행이름:  sc은행\n",
            "예금주:  KIM\n",
            "계좌번호:  333-88-919432\n",
            "잔고:  10000000\n"
          ]
        }
      ]
    },
    {
      "cell_type": "code",
      "source": [
        "# 10. 입출금 내역\n",
        "# 입금과 출금 내역이 기록되도록 코드를 업데이트 해주세요.\n",
        "# 입금 내역과 출금 내역을 출력하는 deposit_history와 withdraw_history 메서드를 추가해 주세요.\n",
        "\n",
        "import random\n",
        "\n",
        "class Account:\n",
        "    account_count = 0     # 클래스 변수 선언\n",
        "\n",
        "    def __init__(self, name, balance):    # 클래스 내부함수 메소드 정의 / 3개의 인자인 self, name, balance  / 인스턴스 메서드\n",
        "\n",
        "        self.deposit_count = 0            # 인스턴스 변수임\n",
        "        self.deposit_log = []             # 인스턴스 배열임\n",
        "        self.withdraw_log = []            # 인스턴스 배열임\n",
        "\n",
        "\n",
        "        self.name = name                  # 인스턴스 변수는 \"self.변수명\" 의 형식을 갖는다.\n",
        "        self.balance = balance            # 인스턴스 변수임\n",
        "        self.bank = \"sc은행\"              # 인스턴스 변수임\n",
        "\n",
        "        num1 = random.randint(0, 999)     #0~999 숫자 사이의 임의수를 num1에 대입\n",
        "        num2 = random.randint(0, 99)      #0~99  숫자 사이의 임의수를 num2에 대입\n",
        "        num3 = random.randint(0, 999999)  #0~99  숫자 사이의 임의수를 num3에 대입\n",
        "\n",
        "        num1 = str(num1).zfill(3)                               # 1 -> '1' -> '001'                     / 파이썬 문자열 앞 0으로 채우기\n",
        "        num2 = str(num2).zfill(2)                               # 1 -> '1' -> '01'                      / 파이썬 문자열 앞 0으로 채우기\n",
        "        num3 = str(num3).zfill(6)                               # 1 -> '1' -> '000001'                  / 파이썬 문자열 앞 0으로 채우기\n",
        "        self.account_number = num1 + '-' + num2 + '-' + num3    # 001-01-000001\n",
        "\n",
        "        Account.account_count += 1\n",
        "\n",
        "    @classmethod                                                # 클래스 메서드\n",
        "    def get_account_num(cls):                                   # 무슨 의미?\n",
        "        print(cls.account_count)                                # account_count의 cls의 인자 값을 출력?\n",
        "\n",
        "    def deposit(self, amount):                                  # deposit 메서드 정의 / 이자 지금에 관한 부분 코드 추가\n",
        "        if amount >= 1:                                         # amount값이 1원 이상이면\n",
        "            self.deposit_log.append(amount)\n",
        "            self.balance += amount                              # 그 값을 저장하라\n",
        "\n",
        "            self.deposit_count += 1\n",
        "            if self.deposit_count % 5 == 0:                # 5로 나누어서 나머지가 0 이면\n",
        "                self.balance = (self.balance * 1.01)       # 1.01 곱한 값을 다시 잔고에 넣어라 / 이자 지급\n",
        "\n",
        "\n",
        "\n",
        "    def withdraw(self, amount):                            # withdraw 메서드 정의\n",
        "        if self.balance > amount:                          # 잔고가 amount값보다 초과한다면\n",
        "            self.withdraw_log.append(amount)               # ?\n",
        "            self.balance -= amount                         # 잔고에서 amount값을 뺀후에 그 값을 다시 잔고 변수에 넣어라\n",
        "\n",
        "    def display_info(self):                                # display_info 메서드 정의\n",
        "        print(\"은행이름: \", self.bank)\n",
        "        print(\"예금주: \", self.name)\n",
        "        print(\"계좌번호: \", self.account_number)\n",
        "        print(\"잔고: \", self.balance)\n",
        "\n",
        "    def withdraw_history(self):                             # 입금내역 출력 메서드 정의\n",
        "        for amount in self.withdraw_log:\n",
        "            print(amount)\n",
        "\n",
        "    def deposit_history(self):                              # 출금내역 출력 메서드 정의\n",
        "        for amount in self.deposit_log:\n",
        "            print(amount)\n",
        "\n",
        "\n",
        "k = Account(\"Kim\", 1000)\n",
        "k.deposit(100)\n",
        "k.deposit(200)\n",
        "k.deposit(300)\n",
        "k.deposit_history()\n",
        "\n",
        "k.withdraw(100)\n",
        "k.withdraw(200)\n",
        "k.withdraw_history()\n",
        "\n"
      ],
      "metadata": {
        "colab": {
          "base_uri": "https://localhost:8080/"
        },
        "id": "kyC1Pj4eosRB",
        "outputId": "4de5d624-1ebe-4814-d76e-f066da820584"
      },
      "execution_count": 83,
      "outputs": [
        {
          "output_type": "stream",
          "name": "stdout",
          "text": [
            "100\n",
            "200\n",
            "300\n",
            "100\n",
            "200\n"
          ]
        }
      ]
    },
    {
      "cell_type": "markdown",
      "source": [
        "<회고문>\n",
        "\n",
        "메인 퀘스트 1번문제만 푸는 과정도 시간이 만만치 않게 소여되었다.\n",
        "하지만, 오늘 코드를 작성하면서 나름대로 재미와 사고하는 법과 코드를 실행하면서 틀리는 부분을 다시 점검하면서 내가 알지 못하는 것들을 배울 수 있어서 좋았다. 클래스의 개념과 메서드 함수 등 개념적으로만 알고 있었던 것을 실습해 볼 수 있는 아주 좋은 계기였다. 그리고 코드를 작성하면서 주석처리가 굉장히 중요하다는 것을 새삼 느꼈다. 주석은 그저 보조적인 역할뿐이고 해도 그만 안해도 그만이라고만 생각했었는데 코드라인의 양이 점점 많아지고 길어지면서 내가 작성한 것을 한눈에 파악하기가 어려웠는데 내가 스스로 주석 처리한 것을 보며 다시 파악하고 짜던 코드에 집중할 수 있도록 아주 중요한 방법임을 깨닫는다.\n",
        "오늘 병원 진료 때문에 오후4시에 조퇴를 해야해서 2번 문제까지 풀고가지 못해서 많이 아쉬움이 남느다. (2점을 못받는다니 ㅠㅠ~~)\n",
        "그래도 오늘 메인 퀘스트를 진행하면서 코딩에 대한 자신감을 얻어서 앞으로는 더 열심히 열정으로 한번 도전해 볼 것이다!\n",
        "참고로 웅제 퍼실님의 조언이 많은 도움이 되어서 감사드린다!!!"
      ],
      "metadata": {
        "id": "zO0lwP3er9R1"
      }
    }
  ]
}