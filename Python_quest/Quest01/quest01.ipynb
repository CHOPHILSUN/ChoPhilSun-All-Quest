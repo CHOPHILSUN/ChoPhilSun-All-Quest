{
  "nbformat": 4,
  "nbformat_minor": 0,
  "metadata": {
    "colab": {
      "provenance": [],
      "include_colab_link": true
    },
    "kernelspec": {
      "name": "python3",
      "display_name": "Python 3"
    },
    "language_info": {
      "name": "python"
    }
  },
  "cells": [
    {
      "cell_type": "markdown",
      "metadata": {
        "id": "view-in-github",
        "colab_type": "text"
      },
      "source": [
        "<a href=\"https://colab.research.google.com/github/CHOPHILSUN/AIFFEL_Quest/blob/master/test01.ipynb\" target=\"_parent\"><img src=\"https://colab.research.google.com/assets/colab-badge.svg\" alt=\"Open In Colab\"/></a>"
      ]
    },
    {
      "cell_type": "code",
      "execution_count": null,
      "metadata": {
        "id": "zhByj9fwC44P"
      },
      "outputs": [],
      "source": [
        "#Quest Pair Programming\n",
        "#회문\n",
        "\n",
        "def string_input():\n",
        "  x = input()   # 함수를 실행하면 단어를 입력받아 x 변수에 저장\n",
        "  y = x[::-1]   # 순서를 거꾸로 바꿔서 y 변수에 저장\n",
        "  print(\"입력값:\\n\" + x)\n",
        "  print()\n",
        "  print(\"출력값:\\n\"+\"뒤집힌 단어는:\" + y)\n",
        "  if x == y:    # 만약 원래 입력한 단어와 순서를 거꾸로 한 단어가 같으면\n",
        "    print(\"입력된 단어는 회문입니다\") # 회문입니다. 문장 출력"
      ]
    },
    {
      "cell_type": "code",
      "source": [
        "string_input()"
      ],
      "metadata": {
        "colab": {
          "base_uri": "https://localhost:8080/"
        },
        "id": "wMlz9Fa8L-qn",
        "outputId": "68f14bd4-e44a-48e6-ab8d-fa0eeacf59c4"
      },
      "execution_count": null,
      "outputs": [
        {
          "output_type": "stream",
          "name": "stdout",
          "text": [
            "121\n",
            "입력값:\n",
            "121\n",
            "\n",
            "출력값:\n",
            "뒤집힌 단어는:121\n",
            "입력된 단어는 회문입니다\n"
          ]
        }
      ]
    },
    {
      "cell_type": "markdown",
      "source": [
        "김영진 회고\n",
        "\n",
        "1 배운 점  \n",
        "인덱싱을 해서 거꾸로 출력하는 법을 다시 리마인드 했다.\n",
        "if 문을 사용하는 방법을 다시 리마인드 했다.\n",
        "\n",
        "2 아쉬운 점  \n",
        "없는 것 같습니다.\n",
        "\n",
        "3 느낀 점  \n",
        "생각보다 코드가 간단하게 구현이 돼서 좋았다."
      ],
      "metadata": {
        "id": "jLgQ2ehnSU0Q"
      }
    },
    {
      "cell_type": "markdown",
      "source": [
        " 조필선 회고\n",
        "\n",
        " 1.배운 점\n",
        " - 페어 프로그래밍 Quest를 통해서 협력해서 코딩하는 법을 경험했다.\n",
        "\n",
        " 2.아쉬운 점\n",
        " - 파이썬이 아직 익숙하지 않고 문제를 보고도 이해하는데 시간이 한참 걸려서 압박감이 느껴졌다.\n",
        "\n",
        " 3.느낀 점\n",
        " - 영진 그루님이 많은 도움을 줘서 고맙고 조금 더 파이썬 문제를 하루에 몇개씩이라도 풀어야겠다는 생각을 하게 되었다."
      ],
      "metadata": {
        "id": "205QvHyjU-QO"
      }
    },
    {
      "cell_type": "code",
      "source": [
        "from google.colab import drive\n",
        "drive.mount('/content/drive')"
      ],
      "metadata": {
        "id": "3AoF8ObvYZLO"
      },
      "execution_count": null,
      "outputs": []
    }
  ]
}